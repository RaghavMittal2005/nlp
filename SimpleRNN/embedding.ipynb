{
 "cells": [
  {
   "cell_type": "code",
   "execution_count": 1,
   "id": "71f1b05d",
   "metadata": {},
   "outputs": [
    {
     "name": "stdout",
     "output_type": "stream",
     "text": [
      "WARNING:tensorflow:From c:\\Users\\panra\\codeFiles\\NLP\\venv2\\lib\\site-packages\\keras\\src\\losses.py:2976: The name tf.losses.sparse_softmax_cross_entropy is deprecated. Please use tf.compat.v1.losses.sparse_softmax_cross_entropy instead.\n",
      "\n"
     ]
    }
   ],
   "source": [
    "from tensorflow.keras.preprocessing.text import one_hot"
   ]
  },
  {
   "cell_type": "code",
   "execution_count": 2,
   "id": "d3d1be2a",
   "metadata": {},
   "outputs": [],
   "source": [
    "sent=[\n",
    "    'I have a name',\n",
    "    'the glass of juice',\n",
    "    'the glass of water',\n",
    "    'your video not good',\n",
    "    'developer is no more'\n",
    "]"
   ]
  },
  {
   "cell_type": "code",
   "execution_count": 3,
   "id": "fa1f3e70",
   "metadata": {},
   "outputs": [
    {
     "data": {
      "text/plain": [
       "[[9038, 4206, 257, 8659],\n",
       " [8986, 2682, 950, 5596],\n",
       " [8986, 2682, 950, 633],\n",
       " [4423, 5234, 2756, 3897],\n",
       " [4733, 7577, 3922, 8112]]"
      ]
     },
     "execution_count": 3,
     "metadata": {},
     "output_type": "execute_result"
    }
   ],
   "source": [
    "voc_size=10000\n",
    "one_repr=[one_hot(words,voc_size) for words in sent]\n",
    "one_repr"
   ]
  },
  {
   "cell_type": "code",
   "execution_count": 7,
   "id": "997807b5",
   "metadata": {},
   "outputs": [],
   "source": [
    "from tensorflow.keras.preprocessing.sequence import pad_sequences\n",
    "from tensorflow.keras.layers import Embedding\n",
    "from tensorflow.keras.models import Sequential\n",
    "import numpy as np\n"
   ]
  },
  {
   "cell_type": "code",
   "execution_count": 8,
   "id": "246b6367",
   "metadata": {},
   "outputs": [
    {
     "name": "stdout",
     "output_type": "stream",
     "text": [
      "[[   0    0    0 9038 4206  257 8659]\n",
      " [   0    0    0 8986 2682  950 5596]\n",
      " [   0    0    0 8986 2682  950  633]\n",
      " [   0    0    0 4423 5234 2756 3897]\n",
      " [   0    0    0 4733 7577 3922 8112]]\n"
     ]
    }
   ],
   "source": [
    "sent_length=7\n",
    "emb=pad_sequences(one_repr,padding='pre',maxlen=sent_length)\n",
    "print(emb)"
   ]
  },
  {
   "cell_type": "code",
   "execution_count": 9,
   "id": "dd985db6",
   "metadata": {},
   "outputs": [
    {
     "name": "stdout",
     "output_type": "stream",
     "text": [
      "WARNING:tensorflow:From c:\\Users\\panra\\codeFiles\\NLP\\venv2\\lib\\site-packages\\keras\\src\\backend.py:873: The name tf.get_default_graph is deprecated. Please use tf.compat.v1.get_default_graph instead.\n",
      "\n",
      "WARNING:tensorflow:From c:\\Users\\panra\\codeFiles\\NLP\\venv2\\lib\\site-packages\\keras\\src\\optimizers\\__init__.py:309: The name tf.train.Optimizer is deprecated. Please use tf.compat.v1.train.Optimizer instead.\n",
      "\n"
     ]
    }
   ],
   "source": [
    "model=Sequential()\n",
    "dim=6\n",
    "model.add(Embedding(voc_size,dim,input_length=sent_length))\n",
    "model.compile('adam','mse')"
   ]
  },
  {
   "cell_type": "code",
   "execution_count": 10,
   "id": "2d4a4ab6",
   "metadata": {},
   "outputs": [
    {
     "name": "stdout",
     "output_type": "stream",
     "text": [
      "1/1 [==============================] - 0s 113ms/step\n"
     ]
    },
    {
     "data": {
      "text/plain": [
       "array([[-0.00151192, -0.02859162, -0.03021293, -0.04918867,  0.03818699,\n",
       "        -0.02820531],\n",
       "       [-0.00151192, -0.02859162, -0.03021293, -0.04918867,  0.03818699,\n",
       "        -0.02820531],\n",
       "       [-0.00151192, -0.02859162, -0.03021293, -0.04918867,  0.03818699,\n",
       "        -0.02820531],\n",
       "       [ 0.02585609,  0.01375725, -0.02139815,  0.02872025,  0.04844007,\n",
       "        -0.02351813],\n",
       "       [ 0.02908036, -0.01338979,  0.01778109, -0.00186844,  0.04235332,\n",
       "        -0.00918873],\n",
       "       [-0.0159898 , -0.001128  , -0.01427723,  0.01040319,  0.04726357,\n",
       "        -0.0042555 ],\n",
       "       [-0.00127007,  0.00299623,  0.03860451,  0.03740411,  0.03268137,\n",
       "        -0.00193126]], dtype=float32)"
      ]
     },
     "execution_count": 10,
     "metadata": {},
     "output_type": "execute_result"
    }
   ],
   "source": [
    "model.predict(emb[0])"
   ]
  },
  {
   "cell_type": "code",
   "execution_count": 11,
   "id": "1791466f",
   "metadata": {},
   "outputs": [
    {
     "name": "stdout",
     "output_type": "stream",
     "text": [
      "Model: \"sequential\"\n",
      "_________________________________________________________________\n",
      " Layer (type)                Output Shape              Param #   \n",
      "=================================================================\n",
      " embedding (Embedding)       (None, 7, 6)              60000     \n",
      "                                                                 \n",
      "=================================================================\n",
      "Total params: 60000 (234.38 KB)\n",
      "Trainable params: 60000 (234.38 KB)\n",
      "Non-trainable params: 0 (0.00 Byte)\n",
      "_________________________________________________________________\n"
     ]
    }
   ],
   "source": [
    "model.summary()"
   ]
  },
  {
   "cell_type": "code",
   "execution_count": null,
   "id": "219ab27f",
   "metadata": {},
   "outputs": [],
   "source": []
  }
 ],
 "metadata": {
  "kernelspec": {
   "display_name": "Python 3",
   "language": "python",
   "name": "python3"
  },
  "language_info": {
   "codemirror_mode": {
    "name": "ipython",
    "version": 3
   },
   "file_extension": ".py",
   "mimetype": "text/x-python",
   "name": "python",
   "nbconvert_exporter": "python",
   "pygments_lexer": "ipython3",
   "version": "3.9.23"
  }
 },
 "nbformat": 4,
 "nbformat_minor": 5
}
